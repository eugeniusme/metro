{
 "cells": [
  {
   "cell_type": "code",
   "execution_count": 6,
   "metadata": {
    "collapsed": false
   },
   "outputs": [
    {
     "name": "stdout",
     "output_type": "stream",
     "text": [
      "Введите название файла с выборкой: 06_a.txt\n",
      "Среднее арифметическое равно  1.674916666666667\n",
      "[ 1.622  1.632  1.64   1.644  1.654  1.675  1.676  1.679  1.694  1.694\n",
      "  1.707  1.782]\n",
      "Таблица критических коэффициентов Диксона:\n",
      "       0   0.9  0.95  0.98  0.99\n",
      "0   4.0  0.68  0.76  0.85  0.89\n",
      "1   6.0  0.48  0.56  0.64  0.70\n",
      "2   8.0  0.40  0.47  0.54  0.59\n",
      "3  10.0  0.35  0.41  0.48  0.53\n",
      "4  12.0  0.32  0.38  0.44  0.48\n",
      "5  14.0  0.29  0.35  0.41  0.45\n",
      "6  16.0  0.28  0.33  0.39  0.43\n",
      "7  18.0  0.26  0.31  0.37  0.41\n",
      "8  20.0  0.26  0.30  0.36  0.39\n",
      "9  30.0  0.22  0.26  0.31  0.34\n",
      "Введите, при каком коэффициенте доверия будем проверять выборку на наличие промахов: 0.9, 0.95, 0.98, 0.99: 0.9\n",
      "Klast =  0.46875\n",
      "При коэффициенте доверия в 0.9 последнее значение является промахом\n",
      "Kfirst =  0.117647058824\n",
      "При коэффициенте доверия в 0.9 первое значение не является промахом\n",
      "Выборка после удаления:  [ 1.622  1.632  1.64   1.644  1.654  1.675  1.676  1.679  1.694  1.694\n",
      "  1.707]\n"
     ]
    }
   ],
   "source": [
    "import pandas as pd\n",
    "import numpy as np\n",
    "from pandas import DataFrame\n",
    "\n",
    "name = input('Введите название файла с выборкой: ')\n",
    "\n",
    "data = pd.read_table(name, header = None)\n",
    "num = data[0].str.replace(',', '.').astype(float)\n",
    "print('Среднее арифметическое равно ', num.mean())\n",
    "\n",
    "nums = num.values\n",
    "nums.sort(axis=0)\n",
    "print(nums)\n",
    "\n",
    "kriteries = pd.read_table('dikson.txt', header = 'infer', index_col = None)\n",
    "kriteries = kriteries.astype(float)\n",
    "for i in kriteries:\n",
    "    kriteries[i] = kriteries[i].astype(float)\n",
    "print('Таблица критических коэффициентов Диксона:\\n', kriteries)\n",
    "\n",
    "index = kriteries['0'][kriteries['0'] == len(nums)].index[0] \n",
    "\n",
    "krit_koef = input('Введите, при каком коэффициенте доверия будем проверять выборку на наличие промахов: 0.9, 0.95, 0.98, 0.99: ')\n",
    "\n",
    "Klast = abs((nums[-1] - nums[-2]) / (nums[-1] - nums[0]))\n",
    "print('Klast = ', Klast)\n",
    "if Klast > kriteries[krit_koef][index]:\n",
    "    print('При коэффициенте доверия в', krit_koef ,'последнее значение является промахом')\n",
    "    nums = np.delete(nums, [len(nums) - 1], axis = 0)\n",
    "else:\n",
    "    print('При коэффициенте доверия в', krit_koef ,'последнее значение не является промахом')\n",
    "\n",
    "Kfirst = abs((nums[0] - nums[1]) / (nums[-1] - nums[0]))\n",
    "print('Kfirst = ', Kfirst)\n",
    "if Kfirst > kriteries[krit_koef][index]:\n",
    "    print('При коэффициенте доверия в', krit_koef ,'первое значение является промахом')\n",
    "    nums = np.delete(nums, [0], axis = 0)\n",
    "else:\n",
    "    print('При коэффициенте доверия в', krit_koef ,'первое значение не является промахом')\n",
    "print('Выборка после удаления: ', nums)\n"
   ]
  },
  {
   "cell_type": "code",
   "execution_count": 8,
   "metadata": {
    "collapsed": false
   },
   "outputs": [
    {
     "name": "stdout",
     "output_type": "stream",
     "text": [
      "Введите название файла с выборкой: 06_b.txt\n",
      "Среднее арифметическое равно  1.6481874999999997\n",
      "[ 1.575  1.579  1.583  1.613  1.628  1.631  1.639  1.641  1.664  1.666\n",
      "  1.672  1.684  1.691  1.698  1.703  1.704]\n",
      "Таблица критических коэффициентов Диксона:\n",
      "       0   0.9  0.95  0.98  0.99\n",
      "0   4.0  0.68  0.76  0.85  0.89\n",
      "1   6.0  0.48  0.56  0.64  0.70\n",
      "2   8.0  0.40  0.47  0.54  0.59\n",
      "3  10.0  0.35  0.41  0.48  0.53\n",
      "4  12.0  0.32  0.38  0.44  0.48\n",
      "5  14.0  0.29  0.35  0.41  0.45\n",
      "6  16.0  0.28  0.33  0.39  0.43\n",
      "7  18.0  0.26  0.31  0.37  0.41\n",
      "8  20.0  0.26  0.30  0.36  0.39\n",
      "9  30.0  0.22  0.26  0.31  0.34\n",
      "Введите, при каком коэффициенте доверия будем проверять выборку на наличие промахов: 0.9, 0.95, 0.98, 0.99: 0.9\n",
      "Klast =  0.0077519379845\n",
      "При коэффициенте доверия в 0.9 последнее значение не является промахом\n",
      "Kfirst =  0.031007751938\n",
      "При коэффициенте доверия в 0.9 первое значение не является промахом\n",
      "Выборка после удаления:  [ 1.575  1.579  1.583  1.613  1.628  1.631  1.639  1.641  1.664  1.666\n",
      "  1.672  1.684  1.691  1.698  1.703  1.704]\n"
     ]
    }
   ],
   "source": [
    "import pandas as pd\n",
    "import numpy as np\n",
    "from pandas import DataFrame\n",
    "\n",
    "name = input('Введите название файла с выборкой: ')\n",
    "\n",
    "data = pd.read_table(name, header = None)\n",
    "num = data[0].str.replace(',', '.').astype(float)\n",
    "print('Среднее арифметическое равно ', num.mean())\n",
    "\n",
    "nums = num.values\n",
    "nums.sort(axis=0)\n",
    "print(nums)\n",
    "\n",
    "kriteries = pd.read_table('dikson.txt', header = 'infer', index_col = None)\n",
    "kriteries = kriteries.astype(float)\n",
    "for i in kriteries:\n",
    "    kriteries[i] = kriteries[i].astype(float)\n",
    "print('Таблица критических коэффициентов Диксона:\\n', kriteries)\n",
    "\n",
    "index = kriteries['0'][kriteries['0'] == len(nums)].index[0] \n",
    "\n",
    "krit_koef = input('Введите, при каком коэффициенте доверия будем проверять выборку на наличие промахов: 0.9, 0.95, 0.98, 0.99: ')\n",
    "\n",
    "Klast = abs((nums[-1] - nums[-2]) / (nums[-1] - nums[0]))\n",
    "print('Klast = ', Klast)\n",
    "if Klast > kriteries[krit_koef][index]:\n",
    "    print('При коэффициенте доверия в', krit_koef ,'последнее значение является промахом')\n",
    "    nums = np.delete(nums, [len(nums) - 1], axis = 0)\n",
    "else:\n",
    "    print('При коэффициенте доверия в', krit_koef ,'последнее значение не является промахом')\n",
    "\n",
    "Kfirst = abs((nums[0] - nums[1]) / (nums[-1] - nums[0]))\n",
    "print('Kfirst = ', Kfirst)\n",
    "if Kfirst > kriteries[krit_koef][index]:\n",
    "    print('При коэффициенте доверия в', krit_koef ,'первое значение является промахом')\n",
    "    nums = np.delete(nums, [0], axis = 0)\n",
    "else:\n",
    "    print('При коэффициенте доверия в', krit_koef ,'первое значение не является промахом')\n",
    "print('Выборка после удаления: ', nums)"
   ]
  }
 ],
 "metadata": {
  "kernelspec": {
   "display_name": "Python 3",
   "language": "python",
   "name": "python3"
  },
  "language_info": {
   "codemirror_mode": {
    "name": "ipython",
    "version": 3
   },
   "file_extension": ".py",
   "mimetype": "text/x-python",
   "name": "python",
   "nbconvert_exporter": "python",
   "pygments_lexer": "ipython3",
   "version": "3.6.0"
  }
 },
 "nbformat": 4,
 "nbformat_minor": 2
}
